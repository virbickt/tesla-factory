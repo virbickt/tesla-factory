{
  "nbformat": 4,
  "nbformat_minor": 0,
  "metadata": {
    "colab": {
      "name": "Untitled9.ipynb",
      "provenance": [],
      "collapsed_sections": [],
      "authorship_tag": "ABX9TyOczdWfycp71DwhTGfv4+bg",
      "include_colab_link": true
    },
    "kernelspec": {
      "name": "python3",
      "display_name": "Python 3"
    }
  },
  "cells": [
    {
      "cell_type": "markdown",
      "metadata": {
        "id": "view-in-github",
        "colab_type": "text"
      },
      "source": [
        "<a href=\"https://colab.research.google.com/github/virbickt/tesla-factory/blob/main/tesla-factory.ipynb\" target=\"_parent\"><img src=\"https://colab.research.google.com/assets/colab-badge.svg\" alt=\"Open In Colab\"/></a>"
      ]
    },
    {
      "cell_type": "code",
      "metadata": {
        "id": "PGBsm34KO4ht",
        "colab": {
          "base_uri": "https://localhost:8080/"
        },
        "outputId": "636541c8-7bfa-4f79-b347-41a9a5cf3fbc"
      },
      "source": [
        "# Installing pytest using pip\r\n",
        "!pip install pytest ipython_pytest"
      ],
      "execution_count": null,
      "outputs": [
        {
          "output_type": "stream",
          "text": [
            "Requirement already satisfied: pytest in /usr/local/lib/python3.7/dist-packages (3.6.4)\n",
            "Collecting ipython_pytest\n",
            "  Downloading https://files.pythonhosted.org/packages/de/41/27fd955cca43bbbb546959b77bd5757495ffb2ca3cb08fc6b0cce6c366c8/ipython_pytest-0.0.1.tar.gz\n",
            "Requirement already satisfied: atomicwrites>=1.0 in /usr/local/lib/python3.7/dist-packages (from pytest) (1.4.0)\n",
            "Requirement already satisfied: attrs>=17.4.0 in /usr/local/lib/python3.7/dist-packages (from pytest) (20.3.0)\n",
            "Requirement already satisfied: more-itertools>=4.0.0 in /usr/local/lib/python3.7/dist-packages (from pytest) (8.7.0)\n",
            "Requirement already satisfied: pluggy<0.8,>=0.5 in /usr/local/lib/python3.7/dist-packages (from pytest) (0.7.1)\n",
            "Requirement already satisfied: six>=1.10.0 in /usr/local/lib/python3.7/dist-packages (from pytest) (1.15.0)\n",
            "Requirement already satisfied: setuptools in /usr/local/lib/python3.7/dist-packages (from pytest) (53.0.0)\n",
            "Requirement already satisfied: py>=1.5.0 in /usr/local/lib/python3.7/dist-packages (from pytest) (1.10.0)\n",
            "Building wheels for collected packages: ipython-pytest\n",
            "  Building wheel for ipython-pytest (setup.py) ... \u001b[?25l\u001b[?25hdone\n",
            "  Created wheel for ipython-pytest: filename=ipython_pytest-0.0.1-cp37-none-any.whl size=3636 sha256=3f749b4c377d126baf2bdc74649a39ca0e4bf246482312c3e850a524f76577b3\n",
            "  Stored in directory: /root/.cache/pip/wheels/94/ea/8f/93a1085080699af835b096bf31b0db14030408fb125dd3e424\n",
            "Successfully built ipython-pytest\n",
            "Installing collected packages: ipython-pytest\n",
            "Successfully installed ipython-pytest-0.0.1\n"
          ],
          "name": "stdout"
        }
      ]
    },
    {
      "cell_type": "code",
      "metadata": {
        "id": "z9swL09xOrdI"
      },
      "source": [
        "import ipython_pytest"
      ],
      "execution_count": null,
      "outputs": []
    },
    {
      "cell_type": "code",
      "metadata": {
        "id": "8OHRJElrOtVi"
      },
      "source": [
        "%load_ext ipython_pytest"
      ],
      "execution_count": null,
      "outputs": []
    },
    {
      "cell_type": "code",
      "metadata": {
        "id": "u7byzDQWMMnv"
      },
      "source": [
        "class Tesla:\r\n",
        "    def __init__(self, model: str, color: str, efficiency: float = 0.3, autopilot: bool = False):\r\n",
        "        self.__model = model\r\n",
        "        self.__color = color\r\n",
        "        self.__battery_charge = 99.9\r\n",
        "        self.__is_locked = True\r\n",
        "        self.__seats_count = 5\r\n",
        "        self.__autopilot = autopilot\r\n",
        "        self.__efficiency = efficiency\r\n",
        "        \r\n",
        "    @property\r\n",
        "    def color(self) -> str:\r\n",
        "      return self.__color\r\n",
        "\r\n",
        "    @property\r\n",
        "    def seats_count(self) -> int:\r\n",
        "      return self.__seats_count\r\n",
        "\r\n",
        "    @property\r\n",
        "    def model(self) -> str:\r\n",
        "      return self.__model\r\n",
        "\r\n",
        "    @property\r\n",
        "    def is_locked(self) -> bool:\r\n",
        "      return self.__is_locked\r\n",
        "\r\n",
        "    @property\r\n",
        "    def battery_charge(self) -> float:\r\n",
        "      return self.__battery_charge\r\n",
        "    \r\n",
        "    @is_locked.setter\r\n",
        "    def lock(self) -> bool:\r\n",
        "      if self.__is_locked == False:\r\n",
        "        self.__is_locked = True\r\n",
        "        return f'Beep'\r\n",
        "      return f\"Car is already locked!\"\r\n",
        "\r\n",
        "    @is_locked.setter\r\n",
        "    def unlock(self) -> bool:\r\n",
        "      if self.__is_locked:\r\n",
        "        self.__is_locked = False\r\n",
        "        return f'Beep'\r\n",
        "      return f\"Car is already unlocked!\"\r\n",
        "\r\n",
        "    def open_doors(self) -> str:\r\n",
        "      if self.__is_locked == False:\r\n",
        "        return \"Doors opens sideways\"\r\n",
        "      return \"Car is locked!\"\r\n",
        "\r\n",
        "    @color.setter\r\n",
        "    def color(self, color: str) -> str:\r\n",
        "      \"\"\"Takes string, sets color to input value\"\"\"\r\n",
        "      self.__color = color\r\n",
        "\r\n",
        "    @seats_count.setter\r\n",
        "    def seats_count(self, seats_count: int) -> int:\r\n",
        "      if seats_count < 2:\r\n",
        "        return f\"Seats count cannot be lower than 2!\"\r\n",
        "      self.__seats_count = seats_count\r\n",
        "\r\n",
        "    def welcome(self) -> str:\r\n",
        "      raise NotImplementedError\r\n",
        "\r\n",
        "    def autopilot(self, obstacle: str) -> str:\r\n",
        "        \"\"\"Takes string, returns string if autopilot is set to True; else returns string with info message\"\"\"\r\n",
        "        if self.__autopilot:\r\n",
        "            return f\"Tesla model {self.__model} avoids {obstacle}\".format(self, obstacle)\r\n",
        "        return \"Autopilot is not available\"\r\n",
        "\r\n",
        "    def check_battery_level(self) -> str:\r\n",
        "      return f\"Battery charge level is \" + str(self.__battery_charge) + \"%\"\r\n",
        "        \r\n",
        "    def charge_battery(self):\r\n",
        "        \"\"\"Sets battery_charge to 100, runs check_battery_level, returns string with battery level\"\"\"\r\n",
        "        self.__battery_charge = 100\r\n",
        "        self.check_battery_level()\r\n",
        "\r\n",
        "    def drive(self, travel_range: float):\r\n",
        "        battery_discharge_percent = travel_range * self.__efficiency\r\n",
        "        if self.__battery_charge - battery_discharge_percent >= 0:\r\n",
        "            self.__battery_charge = round(self.__battery_charge - battery_discharge_percent, 1)\r\n",
        "            self.check_battery_level()\r\n",
        "        return f\"Battery charge level is too low!\""
      ],
      "execution_count": null,
      "outputs": []
    },
    {
      "cell_type": "code",
      "metadata": {
        "id": "qkowVJatNLmf",
        "colab": {
          "base_uri": "https://localhost:8080/"
        },
        "outputId": "6ab7ca79-5cf1-4bdb-eb67-ad6550f4bb69"
      },
      "source": [
        "%%pytest\r\n",
        "\r\n",
        "def check_battery_charge():\r\n",
        "  tesla = Tesla('S', 'Red')\r\n",
        "  tesla.charge_battery()\r\n",
        "  assert tesla.battery_charge == 100"
      ],
      "execution_count": null,
      "outputs": [
        {
          "output_type": "stream",
          "text": [
            "============================= test session starts ==============================\n",
            "platform linux -- Python 3.7.10, pytest-3.6.4, py-1.10.0, pluggy-0.7.1\n",
            "rootdir: /tmp/tmp975e5n0b, inifile:\n",
            "plugins: typeguard-2.7.1\n",
            "collected 0 items\n",
            "\n",
            "=============================== warnings summary ===============================\n",
            "<undetermined location>\n",
            "  Module already imported so cannot be rewritten: typeguard\n",
            "\n",
            "-- Docs: http://doc.pytest.org/en/latest/warnings.html\n",
            "========================== 1 warnings in 0.04 seconds ==========================\n"
          ],
          "name": "stdout"
        }
      ]
    },
    {
      "cell_type": "code",
      "metadata": {
        "id": "3fAtrAdaNxk-",
        "colab": {
          "base_uri": "https://localhost:8080/"
        },
        "outputId": "5fb6170f-4770-4247-b912-5d39d0193867"
      },
      "source": [
        "%%pytest\r\n",
        "\r\n",
        "def check_if_no_autopilot():\r\n",
        "  tesla = Tesla('S', 'Red')\r\n",
        "  assert tesla.autopilot('signpost') == 'Autopilot is not available'"
      ],
      "execution_count": null,
      "outputs": [
        {
          "output_type": "stream",
          "text": [
            "============================= test session starts ==============================\n",
            "platform linux -- Python 3.7.10, pytest-3.6.4, py-1.10.0, pluggy-0.7.1\n",
            "rootdir: /tmp/tmp1k9qtw9f, inifile:\n",
            "plugins: typeguard-2.7.1\n",
            "collected 0 items\n",
            "\n",
            "=============================== warnings summary ===============================\n",
            "<undetermined location>\n",
            "  Module already imported so cannot be rewritten: typeguard\n",
            "\n",
            "-- Docs: http://doc.pytest.org/en/latest/warnings.html\n",
            "========================== 1 warnings in 0.04 seconds ==========================\n"
          ],
          "name": "stdout"
        }
      ]
    }
  ]
}