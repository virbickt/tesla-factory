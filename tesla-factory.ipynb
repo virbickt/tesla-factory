{
  "nbformat": 4,
  "nbformat_minor": 0,
  "metadata": {
    "colab": {
      "name": "Untitled9.ipynb",
      "provenance": [],
      "collapsed_sections": [],
      "authorship_tag": "ABX9TyOYN+8esvQVpWusEyT4q/Gy",
      "include_colab_link": true
    },
    "kernelspec": {
      "name": "python3",
      "display_name": "Python 3"
    }
  },
  "cells": [
    {
      "cell_type": "markdown",
      "metadata": {
        "id": "view-in-github",
        "colab_type": "text"
      },
      "source": [
        "<a href=\"https://colab.research.google.com/github/virbickt/tesla-factory/blob/main/tesla-factory.ipynb\" target=\"_parent\"><img src=\"https://colab.research.google.com/assets/colab-badge.svg\" alt=\"Open In Colab\"/></a>"
      ]
    },
    {
      "cell_type": "code",
      "metadata": {
        "id": "u7byzDQWMMnv"
      },
      "source": [
        "class Tesla:\r\n",
        "    def __init__(self, model: str, color: str, efficiency: float = 0.3, autopilot: bool = False):\r\n",
        "        self.__model = model\r\n",
        "        self.__color = color\r\n",
        "        self.__battery_charge = 99.9\r\n",
        "        self.__is_locked = True\r\n",
        "        self.__seats_count = 5\r\n",
        "        self.__autopilot = autopilot\r\n",
        "        self.__efficiency = efficiency\r\n",
        "        \r\n",
        "    @property\r\n",
        "    def color(self) -> str:\r\n",
        "      return self.__color\r\n",
        "\r\n",
        "    @property\r\n",
        "    def seats_count(self) -> int:\r\n",
        "      return self.__seats_count\r\n",
        "\r\n",
        "    @property\r\n",
        "    def model(self) -> str:\r\n",
        "      return self.__model\r\n",
        "\r\n",
        "    @property\r\n",
        "    def is_locked(self) -> bool:\r\n",
        "      return self.__is_locked\r\n",
        "\r\n",
        "    @property\r\n",
        "    def battery_charge(self) -> float:\r\n",
        "      return self.__battery_charge\r\n",
        "    \r\n",
        "    @is_locked.setter\r\n",
        "    def lock(self) -> bool:\r\n",
        "      if self.__is_locked == False:\r\n",
        "        self.__is_locked = True\r\n",
        "        return f'Beep'\r\n",
        "      return f\"Car is already locked!\"\r\n",
        "\r\n",
        "    @is_locked.setter\r\n",
        "    def unlock(self) -> bool:\r\n",
        "      if self.__is_locked:\r\n",
        "        self.__is_locked = False\r\n",
        "        return f'Beep'\r\n",
        "      return f\"Car is already unlocked!\"\r\n",
        "\r\n",
        "    def open_doors(self) -> str:\r\n",
        "      if self.__is_locked == False:\r\n",
        "        return \"Doors opens sideways\"\r\n",
        "      return \"Car is locked!\"\r\n",
        "\r\n",
        "    @color.setter\r\n",
        "    def color(self, color: str) -> str:\r\n",
        "      self.__color = color\r\n",
        "\r\n",
        "    @seats_count.setter\r\n",
        "    def seats_count(self, seats_count: int) -> int:\r\n",
        "      if seats_count < 2:\r\n",
        "        return f\"Seats count cannot be lower than 2!\"\r\n",
        "      self.__seats_count = seats_count\r\n",
        "\r\n",
        "    def welcome(self) -> str:\r\n",
        "      raise NotImplementedError\r\n",
        "\r\n",
        "    def autopilot(self, obstacle: str) -> str:\r\n",
        "        if self.__autopilot:\r\n",
        "            return f\"Tesla model {self.__model} avoids {obstacle}\".format(self, obstacle)\r\n",
        "        return \"Autopilot is not available\"\r\n",
        "\r\n",
        "    def check_battery_level(self) -> str:\r\n",
        "      return f\"Battery charge level is \" + str(self.__battery_charge) + \"%\"\r\n",
        "        \r\n",
        "    def charge_battery(self):\r\n",
        "        self.__battery_charge = 100\r\n",
        "        self.check_battery_level()\r\n",
        "\r\n",
        "    def drive(self, travel_range: float):\r\n",
        "        battery_discharge_percent = travel_range * self.__efficiency\r\n",
        "        if self.__battery_charge - battery_discharge_percent >= 0:\r\n",
        "            self.__battery_charge = round(self.__battery_charge - battery_discharge_percent, 1)\r\n",
        "            self.check_battery_level()\r\n",
        "        return f\"Battery charge level is too low!\""
      ],
      "execution_count": null,
      "outputs": []
    }
  ]
}